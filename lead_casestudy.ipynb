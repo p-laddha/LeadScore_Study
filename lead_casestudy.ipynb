{
 "cells": [
  {
   "cell_type": "code",
   "execution_count": 1,
   "id": "1bb8caa8-fa91-4583-9e3d-0226288acccc",
   "metadata": {},
   "outputs": [],
   "source": [
    "import warnings\n",
    "warnings.filterwarnings('ignore')"
   ]
  },
  {
   "cell_type": "code",
   "execution_count": 2,
   "id": "5a9a955d-9554-485d-bb71-8d02c8b183b4",
   "metadata": {},
   "outputs": [],
   "source": [
    "import pandas as pd, numpy as np\n",
    "import matplotlib.pyplot as plt\n",
    "import seaborn as sns"
   ]
  },
  {
   "cell_type": "code",
   "execution_count": 3,
   "id": "0157f9e8-d22a-4d1f-a8e2-3283cffcddca",
   "metadata": {},
   "outputs": [],
   "source": [
    "from IPython.display import display\n",
    "pd.options.display.max_columns = None"
   ]
  },
  {
   "cell_type": "code",
   "execution_count": 4,
   "id": "f1d1d509-983b-4644-945a-7c05814d0b64",
   "metadata": {},
   "outputs": [],
   "source": [
    "#importing all datasets\n",
    "lead_data = pd.read_csv(r\"C:\\Users\\Admin\\OneDrive\\Desktop\\git\\Leads.csv\")\n"
   ]
  },
  {
   "cell_type": "code",
   "execution_count": 5,
   "id": "f36ad4a2-0636-4fb0-aed4-a013576bd9bf",
   "metadata": {},
   "outputs": [
    {
     "data": {
      "text/html": [
       "<div>\n",
       "<style scoped>\n",
       "    .dataframe tbody tr th:only-of-type {\n",
       "        vertical-align: middle;\n",
       "    }\n",
       "\n",
       "    .dataframe tbody tr th {\n",
       "        vertical-align: top;\n",
       "    }\n",
       "\n",
       "    .dataframe thead th {\n",
       "        text-align: right;\n",
       "    }\n",
       "</style>\n",
       "<table border=\"1\" class=\"dataframe\">\n",
       "  <thead>\n",
       "    <tr style=\"text-align: right;\">\n",
       "      <th></th>\n",
       "      <th>Prospect ID</th>\n",
       "      <th>Lead Number</th>\n",
       "      <th>Lead Origin</th>\n",
       "      <th>Lead Source</th>\n",
       "      <th>Do Not Email</th>\n",
       "      <th>Do Not Call</th>\n",
       "      <th>Converted</th>\n",
       "      <th>TotalVisits</th>\n",
       "      <th>Total Time Spent on Website</th>\n",
       "      <th>Page Views Per Visit</th>\n",
       "      <th>Last Activity</th>\n",
       "      <th>Country</th>\n",
       "      <th>Specialization</th>\n",
       "      <th>How did you hear about X Education</th>\n",
       "      <th>What is your current occupation</th>\n",
       "      <th>What matters most to you in choosing a course</th>\n",
       "      <th>Search</th>\n",
       "      <th>Magazine</th>\n",
       "      <th>Newspaper Article</th>\n",
       "      <th>X Education Forums</th>\n",
       "      <th>Newspaper</th>\n",
       "      <th>Digital Advertisement</th>\n",
       "      <th>Through Recommendations</th>\n",
       "      <th>Receive More Updates About Our Courses</th>\n",
       "      <th>Tags</th>\n",
       "      <th>Lead Quality</th>\n",
       "      <th>Update me on Supply Chain Content</th>\n",
       "      <th>Get updates on DM Content</th>\n",
       "      <th>Lead Profile</th>\n",
       "      <th>City</th>\n",
       "      <th>Asymmetrique Activity Index</th>\n",
       "      <th>Asymmetrique Profile Index</th>\n",
       "      <th>Asymmetrique Activity Score</th>\n",
       "      <th>Asymmetrique Profile Score</th>\n",
       "      <th>I agree to pay the amount through cheque</th>\n",
       "      <th>A free copy of Mastering The Interview</th>\n",
       "      <th>Last Notable Activity</th>\n",
       "    </tr>\n",
       "  </thead>\n",
       "  <tbody>\n",
       "    <tr>\n",
       "      <th>0</th>\n",
       "      <td>7927b2df-8bba-4d29-b9a2-b6e0beafe620</td>\n",
       "      <td>660737</td>\n",
       "      <td>API</td>\n",
       "      <td>Olark Chat</td>\n",
       "      <td>No</td>\n",
       "      <td>No</td>\n",
       "      <td>0</td>\n",
       "      <td>0.0</td>\n",
       "      <td>0</td>\n",
       "      <td>0.0</td>\n",
       "      <td>Page Visited on Website</td>\n",
       "      <td>NaN</td>\n",
       "      <td>Select</td>\n",
       "      <td>Select</td>\n",
       "      <td>Unemployed</td>\n",
       "      <td>Better Career Prospects</td>\n",
       "      <td>No</td>\n",
       "      <td>No</td>\n",
       "      <td>No</td>\n",
       "      <td>No</td>\n",
       "      <td>No</td>\n",
       "      <td>No</td>\n",
       "      <td>No</td>\n",
       "      <td>No</td>\n",
       "      <td>Interested in other courses</td>\n",
       "      <td>Low in Relevance</td>\n",
       "      <td>No</td>\n",
       "      <td>No</td>\n",
       "      <td>Select</td>\n",
       "      <td>Select</td>\n",
       "      <td>02.Medium</td>\n",
       "      <td>02.Medium</td>\n",
       "      <td>15.0</td>\n",
       "      <td>15.0</td>\n",
       "      <td>No</td>\n",
       "      <td>No</td>\n",
       "      <td>Modified</td>\n",
       "    </tr>\n",
       "    <tr>\n",
       "      <th>1</th>\n",
       "      <td>2a272436-5132-4136-86fa-dcc88c88f482</td>\n",
       "      <td>660728</td>\n",
       "      <td>API</td>\n",
       "      <td>Organic Search</td>\n",
       "      <td>No</td>\n",
       "      <td>No</td>\n",
       "      <td>0</td>\n",
       "      <td>5.0</td>\n",
       "      <td>674</td>\n",
       "      <td>2.5</td>\n",
       "      <td>Email Opened</td>\n",
       "      <td>India</td>\n",
       "      <td>Select</td>\n",
       "      <td>Select</td>\n",
       "      <td>Unemployed</td>\n",
       "      <td>Better Career Prospects</td>\n",
       "      <td>No</td>\n",
       "      <td>No</td>\n",
       "      <td>No</td>\n",
       "      <td>No</td>\n",
       "      <td>No</td>\n",
       "      <td>No</td>\n",
       "      <td>No</td>\n",
       "      <td>No</td>\n",
       "      <td>Ringing</td>\n",
       "      <td>NaN</td>\n",
       "      <td>No</td>\n",
       "      <td>No</td>\n",
       "      <td>Select</td>\n",
       "      <td>Select</td>\n",
       "      <td>02.Medium</td>\n",
       "      <td>02.Medium</td>\n",
       "      <td>15.0</td>\n",
       "      <td>15.0</td>\n",
       "      <td>No</td>\n",
       "      <td>No</td>\n",
       "      <td>Email Opened</td>\n",
       "    </tr>\n",
       "    <tr>\n",
       "      <th>2</th>\n",
       "      <td>8cc8c611-a219-4f35-ad23-fdfd2656bd8a</td>\n",
       "      <td>660727</td>\n",
       "      <td>Landing Page Submission</td>\n",
       "      <td>Direct Traffic</td>\n",
       "      <td>No</td>\n",
       "      <td>No</td>\n",
       "      <td>1</td>\n",
       "      <td>2.0</td>\n",
       "      <td>1532</td>\n",
       "      <td>2.0</td>\n",
       "      <td>Email Opened</td>\n",
       "      <td>India</td>\n",
       "      <td>Business Administration</td>\n",
       "      <td>Select</td>\n",
       "      <td>Student</td>\n",
       "      <td>Better Career Prospects</td>\n",
       "      <td>No</td>\n",
       "      <td>No</td>\n",
       "      <td>No</td>\n",
       "      <td>No</td>\n",
       "      <td>No</td>\n",
       "      <td>No</td>\n",
       "      <td>No</td>\n",
       "      <td>No</td>\n",
       "      <td>Will revert after reading the email</td>\n",
       "      <td>Might be</td>\n",
       "      <td>No</td>\n",
       "      <td>No</td>\n",
       "      <td>Potential Lead</td>\n",
       "      <td>Mumbai</td>\n",
       "      <td>02.Medium</td>\n",
       "      <td>01.High</td>\n",
       "      <td>14.0</td>\n",
       "      <td>20.0</td>\n",
       "      <td>No</td>\n",
       "      <td>Yes</td>\n",
       "      <td>Email Opened</td>\n",
       "    </tr>\n",
       "    <tr>\n",
       "      <th>3</th>\n",
       "      <td>0cc2df48-7cf4-4e39-9de9-19797f9b38cc</td>\n",
       "      <td>660719</td>\n",
       "      <td>Landing Page Submission</td>\n",
       "      <td>Direct Traffic</td>\n",
       "      <td>No</td>\n",
       "      <td>No</td>\n",
       "      <td>0</td>\n",
       "      <td>1.0</td>\n",
       "      <td>305</td>\n",
       "      <td>1.0</td>\n",
       "      <td>Unreachable</td>\n",
       "      <td>India</td>\n",
       "      <td>Media and Advertising</td>\n",
       "      <td>Word Of Mouth</td>\n",
       "      <td>Unemployed</td>\n",
       "      <td>Better Career Prospects</td>\n",
       "      <td>No</td>\n",
       "      <td>No</td>\n",
       "      <td>No</td>\n",
       "      <td>No</td>\n",
       "      <td>No</td>\n",
       "      <td>No</td>\n",
       "      <td>No</td>\n",
       "      <td>No</td>\n",
       "      <td>Ringing</td>\n",
       "      <td>Not Sure</td>\n",
       "      <td>No</td>\n",
       "      <td>No</td>\n",
       "      <td>Select</td>\n",
       "      <td>Mumbai</td>\n",
       "      <td>02.Medium</td>\n",
       "      <td>01.High</td>\n",
       "      <td>13.0</td>\n",
       "      <td>17.0</td>\n",
       "      <td>No</td>\n",
       "      <td>No</td>\n",
       "      <td>Modified</td>\n",
       "    </tr>\n",
       "    <tr>\n",
       "      <th>4</th>\n",
       "      <td>3256f628-e534-4826-9d63-4a8b88782852</td>\n",
       "      <td>660681</td>\n",
       "      <td>Landing Page Submission</td>\n",
       "      <td>Google</td>\n",
       "      <td>No</td>\n",
       "      <td>No</td>\n",
       "      <td>1</td>\n",
       "      <td>2.0</td>\n",
       "      <td>1428</td>\n",
       "      <td>1.0</td>\n",
       "      <td>Converted to Lead</td>\n",
       "      <td>India</td>\n",
       "      <td>Select</td>\n",
       "      <td>Other</td>\n",
       "      <td>Unemployed</td>\n",
       "      <td>Better Career Prospects</td>\n",
       "      <td>No</td>\n",
       "      <td>No</td>\n",
       "      <td>No</td>\n",
       "      <td>No</td>\n",
       "      <td>No</td>\n",
       "      <td>No</td>\n",
       "      <td>No</td>\n",
       "      <td>No</td>\n",
       "      <td>Will revert after reading the email</td>\n",
       "      <td>Might be</td>\n",
       "      <td>No</td>\n",
       "      <td>No</td>\n",
       "      <td>Select</td>\n",
       "      <td>Mumbai</td>\n",
       "      <td>02.Medium</td>\n",
       "      <td>01.High</td>\n",
       "      <td>15.0</td>\n",
       "      <td>18.0</td>\n",
       "      <td>No</td>\n",
       "      <td>No</td>\n",
       "      <td>Modified</td>\n",
       "    </tr>\n",
       "  </tbody>\n",
       "</table>\n",
       "</div>"
      ],
      "text/plain": [
       "                            Prospect ID  Lead Number              Lead Origin  \\\n",
       "0  7927b2df-8bba-4d29-b9a2-b6e0beafe620       660737                      API   \n",
       "1  2a272436-5132-4136-86fa-dcc88c88f482       660728                      API   \n",
       "2  8cc8c611-a219-4f35-ad23-fdfd2656bd8a       660727  Landing Page Submission   \n",
       "3  0cc2df48-7cf4-4e39-9de9-19797f9b38cc       660719  Landing Page Submission   \n",
       "4  3256f628-e534-4826-9d63-4a8b88782852       660681  Landing Page Submission   \n",
       "\n",
       "      Lead Source Do Not Email Do Not Call  Converted  TotalVisits  \\\n",
       "0      Olark Chat           No          No          0          0.0   \n",
       "1  Organic Search           No          No          0          5.0   \n",
       "2  Direct Traffic           No          No          1          2.0   \n",
       "3  Direct Traffic           No          No          0          1.0   \n",
       "4          Google           No          No          1          2.0   \n",
       "\n",
       "   Total Time Spent on Website  Page Views Per Visit            Last Activity  \\\n",
       "0                            0                   0.0  Page Visited on Website   \n",
       "1                          674                   2.5             Email Opened   \n",
       "2                         1532                   2.0             Email Opened   \n",
       "3                          305                   1.0              Unreachable   \n",
       "4                         1428                   1.0        Converted to Lead   \n",
       "\n",
       "  Country           Specialization How did you hear about X Education  \\\n",
       "0     NaN                   Select                             Select   \n",
       "1   India                   Select                             Select   \n",
       "2   India  Business Administration                             Select   \n",
       "3   India    Media and Advertising                      Word Of Mouth   \n",
       "4   India                   Select                              Other   \n",
       "\n",
       "  What is your current occupation  \\\n",
       "0                      Unemployed   \n",
       "1                      Unemployed   \n",
       "2                         Student   \n",
       "3                      Unemployed   \n",
       "4                      Unemployed   \n",
       "\n",
       "  What matters most to you in choosing a course Search Magazine  \\\n",
       "0                       Better Career Prospects     No       No   \n",
       "1                       Better Career Prospects     No       No   \n",
       "2                       Better Career Prospects     No       No   \n",
       "3                       Better Career Prospects     No       No   \n",
       "4                       Better Career Prospects     No       No   \n",
       "\n",
       "  Newspaper Article X Education Forums Newspaper Digital Advertisement  \\\n",
       "0                No                 No        No                    No   \n",
       "1                No                 No        No                    No   \n",
       "2                No                 No        No                    No   \n",
       "3                No                 No        No                    No   \n",
       "4                No                 No        No                    No   \n",
       "\n",
       "  Through Recommendations Receive More Updates About Our Courses  \\\n",
       "0                      No                                     No   \n",
       "1                      No                                     No   \n",
       "2                      No                                     No   \n",
       "3                      No                                     No   \n",
       "4                      No                                     No   \n",
       "\n",
       "                                  Tags      Lead Quality  \\\n",
       "0          Interested in other courses  Low in Relevance   \n",
       "1                              Ringing               NaN   \n",
       "2  Will revert after reading the email          Might be   \n",
       "3                              Ringing          Not Sure   \n",
       "4  Will revert after reading the email          Might be   \n",
       "\n",
       "  Update me on Supply Chain Content Get updates on DM Content    Lead Profile  \\\n",
       "0                                No                        No          Select   \n",
       "1                                No                        No          Select   \n",
       "2                                No                        No  Potential Lead   \n",
       "3                                No                        No          Select   \n",
       "4                                No                        No          Select   \n",
       "\n",
       "     City Asymmetrique Activity Index Asymmetrique Profile Index  \\\n",
       "0  Select                   02.Medium                  02.Medium   \n",
       "1  Select                   02.Medium                  02.Medium   \n",
       "2  Mumbai                   02.Medium                    01.High   \n",
       "3  Mumbai                   02.Medium                    01.High   \n",
       "4  Mumbai                   02.Medium                    01.High   \n",
       "\n",
       "   Asymmetrique Activity Score  Asymmetrique Profile Score  \\\n",
       "0                         15.0                        15.0   \n",
       "1                         15.0                        15.0   \n",
       "2                         14.0                        20.0   \n",
       "3                         13.0                        17.0   \n",
       "4                         15.0                        18.0   \n",
       "\n",
       "  I agree to pay the amount through cheque  \\\n",
       "0                                       No   \n",
       "1                                       No   \n",
       "2                                       No   \n",
       "3                                       No   \n",
       "4                                       No   \n",
       "\n",
       "  A free copy of Mastering The Interview Last Notable Activity  \n",
       "0                                     No              Modified  \n",
       "1                                     No          Email Opened  \n",
       "2                                    Yes          Email Opened  \n",
       "3                                     No              Modified  \n",
       "4                                     No              Modified  "
      ]
     },
     "execution_count": 5,
     "metadata": {},
     "output_type": "execute_result"
    }
   ],
   "source": [
    "lead_data.head()"
   ]
  },
  {
   "cell_type": "code",
   "execution_count": 6,
   "id": "f23089c3-07bf-4014-a444-86b4d05dca2e",
   "metadata": {},
   "outputs": [
    {
     "data": {
      "text/plain": [
       "(9240, 37)"
      ]
     },
     "execution_count": 6,
     "metadata": {},
     "output_type": "execute_result"
    }
   ],
   "source": [
    "lead_data.shape"
   ]
  },
  {
   "cell_type": "code",
   "execution_count": 7,
   "id": "46df38ff-00b0-418d-9c6c-90f9ec300026",
   "metadata": {},
   "outputs": [
    {
     "name": "stdout",
     "output_type": "stream",
     "text": [
      "<class 'pandas.core.frame.DataFrame'>\n",
      "RangeIndex: 9240 entries, 0 to 9239\n",
      "Data columns (total 37 columns):\n",
      " #   Column                                         Non-Null Count  Dtype  \n",
      "---  ------                                         --------------  -----  \n",
      " 0   Prospect ID                                    9240 non-null   object \n",
      " 1   Lead Number                                    9240 non-null   int64  \n",
      " 2   Lead Origin                                    9240 non-null   object \n",
      " 3   Lead Source                                    9204 non-null   object \n",
      " 4   Do Not Email                                   9240 non-null   object \n",
      " 5   Do Not Call                                    9240 non-null   object \n",
      " 6   Converted                                      9240 non-null   int64  \n",
      " 7   TotalVisits                                    9103 non-null   float64\n",
      " 8   Total Time Spent on Website                    9240 non-null   int64  \n",
      " 9   Page Views Per Visit                           9103 non-null   float64\n",
      " 10  Last Activity                                  9137 non-null   object \n",
      " 11  Country                                        6779 non-null   object \n",
      " 12  Specialization                                 7802 non-null   object \n",
      " 13  How did you hear about X Education             7033 non-null   object \n",
      " 14  What is your current occupation                6550 non-null   object \n",
      " 15  What matters most to you in choosing a course  6531 non-null   object \n",
      " 16  Search                                         9240 non-null   object \n",
      " 17  Magazine                                       9240 non-null   object \n",
      " 18  Newspaper Article                              9240 non-null   object \n",
      " 19  X Education Forums                             9240 non-null   object \n",
      " 20  Newspaper                                      9240 non-null   object \n",
      " 21  Digital Advertisement                          9240 non-null   object \n",
      " 22  Through Recommendations                        9240 non-null   object \n",
      " 23  Receive More Updates About Our Courses         9240 non-null   object \n",
      " 24  Tags                                           5887 non-null   object \n",
      " 25  Lead Quality                                   4473 non-null   object \n",
      " 26  Update me on Supply Chain Content              9240 non-null   object \n",
      " 27  Get updates on DM Content                      9240 non-null   object \n",
      " 28  Lead Profile                                   6531 non-null   object \n",
      " 29  City                                           7820 non-null   object \n",
      " 30  Asymmetrique Activity Index                    5022 non-null   object \n",
      " 31  Asymmetrique Profile Index                     5022 non-null   object \n",
      " 32  Asymmetrique Activity Score                    5022 non-null   float64\n",
      " 33  Asymmetrique Profile Score                     5022 non-null   float64\n",
      " 34  I agree to pay the amount through cheque       9240 non-null   object \n",
      " 35  A free copy of Mastering The Interview         9240 non-null   object \n",
      " 36  Last Notable Activity                          9240 non-null   object \n",
      "dtypes: float64(4), int64(3), object(30)\n",
      "memory usage: 2.6+ MB\n"
     ]
    }
   ],
   "source": [
    "#Reviewing dataset information and structure\n",
    "lead_data.info()"
   ]
  },
  {
   "cell_type": "code",
   "execution_count": 8,
   "id": "af42efc1-389e-45d9-b06d-8c8dbc74eeb4",
   "metadata": {},
   "outputs": [
    {
     "data": {
      "text/html": [
       "<div>\n",
       "<style scoped>\n",
       "    .dataframe tbody tr th:only-of-type {\n",
       "        vertical-align: middle;\n",
       "    }\n",
       "\n",
       "    .dataframe tbody tr th {\n",
       "        vertical-align: top;\n",
       "    }\n",
       "\n",
       "    .dataframe thead th {\n",
       "        text-align: right;\n",
       "    }\n",
       "</style>\n",
       "<table border=\"1\" class=\"dataframe\">\n",
       "  <thead>\n",
       "    <tr style=\"text-align: right;\">\n",
       "      <th></th>\n",
       "      <th>Lead Number</th>\n",
       "      <th>Converted</th>\n",
       "      <th>TotalVisits</th>\n",
       "      <th>Total Time Spent on Website</th>\n",
       "      <th>Page Views Per Visit</th>\n",
       "      <th>Asymmetrique Activity Score</th>\n",
       "      <th>Asymmetrique Profile Score</th>\n",
       "    </tr>\n",
       "  </thead>\n",
       "  <tbody>\n",
       "    <tr>\n",
       "      <th>count</th>\n",
       "      <td>9240.000000</td>\n",
       "      <td>9240.000000</td>\n",
       "      <td>9103.000000</td>\n",
       "      <td>9240.000000</td>\n",
       "      <td>9103.000000</td>\n",
       "      <td>5022.000000</td>\n",
       "      <td>5022.000000</td>\n",
       "    </tr>\n",
       "    <tr>\n",
       "      <th>mean</th>\n",
       "      <td>617188.435606</td>\n",
       "      <td>0.385390</td>\n",
       "      <td>3.445238</td>\n",
       "      <td>487.698268</td>\n",
       "      <td>2.362820</td>\n",
       "      <td>14.306252</td>\n",
       "      <td>16.344883</td>\n",
       "    </tr>\n",
       "    <tr>\n",
       "      <th>std</th>\n",
       "      <td>23405.995698</td>\n",
       "      <td>0.486714</td>\n",
       "      <td>4.854853</td>\n",
       "      <td>548.021466</td>\n",
       "      <td>2.161418</td>\n",
       "      <td>1.386694</td>\n",
       "      <td>1.811395</td>\n",
       "    </tr>\n",
       "    <tr>\n",
       "      <th>min</th>\n",
       "      <td>579533.000000</td>\n",
       "      <td>0.000000</td>\n",
       "      <td>0.000000</td>\n",
       "      <td>0.000000</td>\n",
       "      <td>0.000000</td>\n",
       "      <td>7.000000</td>\n",
       "      <td>11.000000</td>\n",
       "    </tr>\n",
       "    <tr>\n",
       "      <th>25%</th>\n",
       "      <td>596484.500000</td>\n",
       "      <td>0.000000</td>\n",
       "      <td>1.000000</td>\n",
       "      <td>12.000000</td>\n",
       "      <td>1.000000</td>\n",
       "      <td>14.000000</td>\n",
       "      <td>15.000000</td>\n",
       "    </tr>\n",
       "    <tr>\n",
       "      <th>50%</th>\n",
       "      <td>615479.000000</td>\n",
       "      <td>0.000000</td>\n",
       "      <td>3.000000</td>\n",
       "      <td>248.000000</td>\n",
       "      <td>2.000000</td>\n",
       "      <td>14.000000</td>\n",
       "      <td>16.000000</td>\n",
       "    </tr>\n",
       "    <tr>\n",
       "      <th>75%</th>\n",
       "      <td>637387.250000</td>\n",
       "      <td>1.000000</td>\n",
       "      <td>5.000000</td>\n",
       "      <td>936.000000</td>\n",
       "      <td>3.000000</td>\n",
       "      <td>15.000000</td>\n",
       "      <td>18.000000</td>\n",
       "    </tr>\n",
       "    <tr>\n",
       "      <th>max</th>\n",
       "      <td>660737.000000</td>\n",
       "      <td>1.000000</td>\n",
       "      <td>251.000000</td>\n",
       "      <td>2272.000000</td>\n",
       "      <td>55.000000</td>\n",
       "      <td>18.000000</td>\n",
       "      <td>20.000000</td>\n",
       "    </tr>\n",
       "  </tbody>\n",
       "</table>\n",
       "</div>"
      ],
      "text/plain": [
       "         Lead Number    Converted  TotalVisits  Total Time Spent on Website  \\\n",
       "count    9240.000000  9240.000000  9103.000000                  9240.000000   \n",
       "mean   617188.435606     0.385390     3.445238                   487.698268   \n",
       "std     23405.995698     0.486714     4.854853                   548.021466   \n",
       "min    579533.000000     0.000000     0.000000                     0.000000   \n",
       "25%    596484.500000     0.000000     1.000000                    12.000000   \n",
       "50%    615479.000000     0.000000     3.000000                   248.000000   \n",
       "75%    637387.250000     1.000000     5.000000                   936.000000   \n",
       "max    660737.000000     1.000000   251.000000                  2272.000000   \n",
       "\n",
       "       Page Views Per Visit  Asymmetrique Activity Score  \\\n",
       "count           9103.000000                  5022.000000   \n",
       "mean               2.362820                    14.306252   \n",
       "std                2.161418                     1.386694   \n",
       "min                0.000000                     7.000000   \n",
       "25%                1.000000                    14.000000   \n",
       "50%                2.000000                    14.000000   \n",
       "75%                3.000000                    15.000000   \n",
       "max               55.000000                    18.000000   \n",
       "\n",
       "       Asymmetrique Profile Score  \n",
       "count                 5022.000000  \n",
       "mean                    16.344883  \n",
       "std                      1.811395  \n",
       "min                     11.000000  \n",
       "25%                     15.000000  \n",
       "50%                     16.000000  \n",
       "75%                     18.000000  \n",
       "max                     20.000000  "
      ]
     },
     "execution_count": 8,
     "metadata": {},
     "output_type": "execute_result"
    }
   ],
   "source": [
    "lead_data.describe()"
   ]
  },
  {
   "cell_type": "markdown",
   "id": "f8de4cda-acf6-4b8c-b636-8dad81f4245d",
   "metadata": {},
   "source": [
    "**data quality check and cleaning**"
   ]
  },
  {
   "cell_type": "code",
   "execution_count": 9,
   "id": "61ffb08e-8012-4ef6-be3f-6ccc18486a9a",
   "metadata": {},
   "outputs": [],
   "source": [
    "#Replacing 'select' entries with NaN for missing customer choices\n",
    "lead_data = lead_data.replace('Select', np.nan)"
   ]
  },
  {
   "cell_type": "code",
   "execution_count": 10,
   "id": "2caed74b-0d2d-41ce-bc11-2ec569afd237",
   "metadata": {},
   "outputs": [
    {
     "data": {
      "text/plain": [
       "Prospect ID                                         0\n",
       "Lead Number                                         0\n",
       "Lead Origin                                         0\n",
       "Lead Source                                        36\n",
       "Do Not Email                                        0\n",
       "Do Not Call                                         0\n",
       "Converted                                           0\n",
       "TotalVisits                                       137\n",
       "Total Time Spent on Website                         0\n",
       "Page Views Per Visit                              137\n",
       "Last Activity                                     103\n",
       "Country                                          2461\n",
       "Specialization                                   3380\n",
       "How did you hear about X Education               7250\n",
       "What is your current occupation                  2690\n",
       "What matters most to you in choosing a course    2709\n",
       "Search                                              0\n",
       "Magazine                                            0\n",
       "Newspaper Article                                   0\n",
       "X Education Forums                                  0\n",
       "Newspaper                                           0\n",
       "Digital Advertisement                               0\n",
       "Through Recommendations                             0\n",
       "Receive More Updates About Our Courses              0\n",
       "Tags                                             3353\n",
       "Lead Quality                                     4767\n",
       "Update me on Supply Chain Content                   0\n",
       "Get updates on DM Content                           0\n",
       "Lead Profile                                     6855\n",
       "City                                             3669\n",
       "Asymmetrique Activity Index                      4218\n",
       "Asymmetrique Profile Index                       4218\n",
       "Asymmetrique Activity Score                      4218\n",
       "Asymmetrique Profile Score                       4218\n",
       "I agree to pay the amount through cheque            0\n",
       "A free copy of Mastering The Interview              0\n",
       "Last Notable Activity                               0\n",
       "dtype: int64"
      ]
     },
     "execution_count": 10,
     "metadata": {},
     "output_type": "execute_result"
    }
   ],
   "source": [
    "#Checking for null values\n",
    "lead_data.isnull().sum()"
   ]
  },
  {
   "cell_type": "code",
   "execution_count": 11,
   "id": "441f77f2-abcf-4c45-88ce-ce960a4214b6",
   "metadata": {},
   "outputs": [
    {
     "name": "stdout",
     "output_type": "stream",
     "text": [
      "Prospect ID                                       0.00\n",
      "Lead Number                                       0.00\n",
      "Lead Origin                                       0.00\n",
      "Lead Source                                       0.39\n",
      "Do Not Email                                      0.00\n",
      "Do Not Call                                       0.00\n",
      "Converted                                         0.00\n",
      "TotalVisits                                       1.48\n",
      "Total Time Spent on Website                       0.00\n",
      "Page Views Per Visit                              1.48\n",
      "Last Activity                                     1.11\n",
      "Country                                          26.63\n",
      "Specialization                                   36.58\n",
      "How did you hear about X Education               78.46\n",
      "What is your current occupation                  29.11\n",
      "What matters most to you in choosing a course    29.32\n",
      "Search                                            0.00\n",
      "Magazine                                          0.00\n",
      "Newspaper Article                                 0.00\n",
      "X Education Forums                                0.00\n",
      "Newspaper                                         0.00\n",
      "Digital Advertisement                             0.00\n",
      "Through Recommendations                           0.00\n",
      "Receive More Updates About Our Courses            0.00\n",
      "Tags                                             36.29\n",
      "Lead Quality                                     51.59\n",
      "Update me on Supply Chain Content                 0.00\n",
      "Get updates on DM Content                         0.00\n",
      "Lead Profile                                     74.19\n",
      "City                                             39.71\n",
      "Asymmetrique Activity Index                      45.65\n",
      "Asymmetrique Profile Index                       45.65\n",
      "Asymmetrique Activity Score                      45.65\n",
      "Asymmetrique Profile Score                       45.65\n",
      "I agree to pay the amount through cheque          0.00\n",
      "A free copy of Mastering The Interview            0.00\n",
      "Last Notable Activity                             0.00\n",
      "dtype: float64\n"
     ]
    }
   ],
   "source": [
    "#checking percentage of null values\n",
    "percent= round(100*(lead_data.isnull().sum()/len(lead_data)),2)\n",
    "print(percent)"
   ]
  },
  {
   "cell_type": "code",
   "execution_count": 12,
   "id": "5552665d-a537-4daa-abd1-87844c8794d7",
   "metadata": {},
   "outputs": [
    {
     "ename": "NameError",
     "evalue": "name 'df_lead' is not defined",
     "output_type": "error",
     "traceback": [
      "\u001b[1;31m---------------------------------------------------------------------------\u001b[0m",
      "\u001b[1;31mNameError\u001b[0m                                 Traceback (most recent call last)",
      "Cell \u001b[1;32mIn[12], line 2\u001b[0m\n\u001b[0;32m      1\u001b[0m \u001b[38;5;66;03m#creating copy of original data\u001b[39;00m\n\u001b[1;32m----> 2\u001b[0m lead_data_cleaned\u001b[38;5;241m=\u001b[39m \u001b[43mdf_lead\u001b[49m\u001b[38;5;241m.\u001b[39mcopy()\n",
      "\u001b[1;31mNameError\u001b[0m: name 'df_lead' is not defined"
     ]
    }
   ],
   "source": [
    "#creating copy of original data\n",
    "lead_data_cleaned= df_lead.copy()"
   ]
  },
  {
   "cell_type": "markdown",
   "id": "11798b5d-a33c-425c-8077-a4b3585c9a67",
   "metadata": {},
   "source": [
    "**missing value treatment**"
   ]
  },
  {
   "cell_type": "code",
   "execution_count": null,
   "id": "deab1dee-ce12-4857-bf8c-e4806cbefaea",
   "metadata": {},
   "outputs": [],
   "source": [
    "#droping all the columns having missing values more than 38%\n",
    "for col in lead_data_cleaned.columns:\n",
    "    if lead_data_cleaned[col].isnull().sum()/lead_data_cleaned.shape[0]*100 > 38:\n",
    "        lead_data_cleaned.drop(col, inplace= True, axis = 1)\n",
    "    "
   ]
  },
  {
   "cell_type": "code",
   "execution_count": null,
   "id": "aeb4ee2e-1f54-4301-9f8d-49d66bb20d48",
   "metadata": {},
   "outputs": [],
   "source": [
    "#check the number of null values again\n",
    "lead_data_cleaned.isnull().sum()"
   ]
  },
  {
   "cell_type": "code",
   "execution_count": null,
   "id": "dfe549b3-988a-4af6-9677-6ead5f406ac2",
   "metadata": {},
   "outputs": [],
   "source": [
    "lead_data_cleaned.Specialization.value_counts()"
   ]
  },
  {
   "cell_type": "code",
   "execution_count": null,
   "id": "7f18e57f-5a3e-4c46-8fb4-982d99cb826c",
   "metadata": {},
   "outputs": [],
   "source": [
    "#imputing missing value with 'others'\n",
    "lead_data_cleaned['Specialization'].fillna('others', inplace = True)"
   ]
  },
  {
   "cell_type": "code",
   "execution_count": null,
   "id": "3e35a96c-85c3-4537-9005-cf5af6c5f7f1",
   "metadata": {},
   "outputs": [],
   "source": [
    "#checking value counts of lead source\n",
    "lead_data_cleaned['Lead Source'].value_counts()"
   ]
  },
  {
   "cell_type": "code",
   "execution_count": null,
   "id": "a17e90bf-d623-4df0-9b31-592fcb60f33b",
   "metadata": {},
   "outputs": [],
   "source": [
    "#there are two 'google' and 'Google' . so replacing 'google' with 'Google'\n",
    "lead_data_cleaned['Lead Source']= lead_data_cleaned['Lead Source'].replace('google', 'Google')"
   ]
  },
  {
   "cell_type": "code",
   "execution_count": null,
   "id": "7e1fab2d-154a-4085-9719-e3966501ba2d",
   "metadata": {},
   "outputs": [],
   "source": [
    "#verifying\n",
    "lead_data_cleaned['Lead Source'].value_counts()\n"
   ]
  },
  {
   "cell_type": "code",
   "execution_count": null,
   "id": "b06bf60e-df88-4d93-86ee-e1ed6a4c59b6",
   "metadata": {},
   "outputs": [],
   "source": [
    "#'Google' is having higesh number of occurence so imputing missing value with 'Google'\n",
    "lead_data_cleaned['Lead Source'].fillna('Google', inplace= True)"
   ]
  },
  {
   "cell_type": "code",
   "execution_count": null,
   "id": "9a0a1200-7e02-424b-8ebd-e13f20d7757c",
   "metadata": {},
   "outputs": [],
   "source": [
    "#for 'Total Visits'' and 'Page Views Per Visit', imputing missing values with median \n",
    "lead_data_cleaned['TotalVisits'].fillna(lead_data_cleaned['TotalVisits'].median(), inplace= True)\n",
    "\n",
    "lead_data_cleaned['Page Views Per Visit'].fillna(lead_data_cleaned['Page Views Per Visit'].median(), inplace= True)                                "
   ]
  },
  {
   "cell_type": "code",
   "execution_count": null,
   "id": "44832a85-7086-46fd-8a52-195b3d182b04",
   "metadata": {},
   "outputs": [],
   "source": [
    "#checking value counts of last activity \n",
    "lead_data_cleaned['Last Activity'].value_counts()\n"
   ]
  },
  {
   "cell_type": "code",
   "execution_count": null,
   "id": "e8f4c66b-24a6-4fd8-9025-b3022d5a0231",
   "metadata": {},
   "outputs": [],
   "source": [
    "#most frequent value is email opend so relacing null values with Email Opened\n",
    "lead_data_cleaned['Last Activity'].fillna('Email Opened', inplace= True)"
   ]
  },
  {
   "cell_type": "code",
   "execution_count": null,
   "id": "40cc3a95-ae81-4280-aeff-b40e0e0b7dd8",
   "metadata": {},
   "outputs": [],
   "source": [
    "#dropping column Country and Tags\n",
    "lead_data_cleaned.drop('Country', inplace= True, axis=1)"
   ]
  },
  {
   "cell_type": "code",
   "execution_count": null,
   "id": "67518b59-f34f-4c7e-840b-7270c7e82463",
   "metadata": {},
   "outputs": [],
   "source": [
    "lead_data_cleaned.drop('Tags', inplace= True, axis=1)"
   ]
  },
  {
   "cell_type": "code",
   "execution_count": null,
   "id": "6a7ef9ec-93d4-4d57-a652-a4e90e5a5651",
   "metadata": {},
   "outputs": [],
   "source": [
    "lead_data_cleaned['What matters most to you in choosing a course'].value_counts()"
   ]
  },
  {
   "cell_type": "code",
   "execution_count": null,
   "id": "c57247b9-a57d-4a20-88c1-901e1af6df0d",
   "metadata": {},
   "outputs": [],
   "source": [
    "#replacing null values with 'Better Career Prospects'\n",
    "lead_data_cleaned['What matters most to you in choosing a course'].fillna('Better Career Prospects ', inplace= True)"
   ]
  },
  {
   "cell_type": "code",
   "execution_count": null,
   "id": "a0950d8f-0bc6-4407-88e4-24d250e92340",
   "metadata": {},
   "outputs": [],
   "source": [
    "lead_data_cleaned['What is your current occupation'].value_counts()\n"
   ]
  },
  {
   "cell_type": "code",
   "execution_count": null,
   "id": "8b32376c-d9e2-47fe-8990-296a050b54d6",
   "metadata": {},
   "outputs": [],
   "source": [
    "#creating asperate category 'Others' \n",
    "lead_data_cleaned['What is your current occupation'].fillna('Others', inplace= True)"
   ]
  },
  {
   "cell_type": "code",
   "execution_count": null,
   "id": "6d4cd9bf-f9e8-4957-be54-d0c2fca21b2d",
   "metadata": {},
   "outputs": [],
   "source": [
    " #Checking for null values\n",
    "lead_data_cleaned.isnull().sum()"
   ]
  },
  {
   "cell_type": "markdown",
   "id": "e1e34124-4bcb-46f5-b2dd-11833029c5ec",
   "metadata": {},
   "source": [
    "there is no missing values"
   ]
  },
  {
   "cell_type": "code",
   "execution_count": null,
   "id": "0a22963e-14c1-41dd-bfce-43866234db6b",
   "metadata": {},
   "outputs": [],
   "source": [
    "#dropping column 'Prospect ID' and ' Lead Number' \n",
    "lead_data_cleaned.drop(['Prospect ID','Lead Number'],axis= 1, inplace= True)"
   ]
  },
  {
   "cell_type": "markdown",
   "id": "20bc8b03-8dd4-41a7-923a-63074aa4d7be",
   "metadata": {},
   "source": [
    "*checking data imbalancing*"
   ]
  },
  {
   "cell_type": "code",
   "execution_count": null,
   "id": "4a5009eb-c813-42f8-a96e-4bafc68f9556",
   "metadata": {},
   "outputs": [],
   "source": [
    "cols= list(lead_data_cleaned.iloc[:,:])\n",
    "for i in cols :\n",
    "    print(i,'======')\n",
    "    print(lead_data_cleaned[i].value_counts, '\\n')"
   ]
  },
  {
   "cell_type": "code",
   "execution_count": null,
   "id": "5a6146d2-9e54-4402-a68a-9f66397a9d74",
   "metadata": {},
   "outputs": [],
   "source": [
    "#dropping the columns which are having highly data imbalance and columns which will not  contribute significantly to analysis\n",
    "lead_data_cleaned.drop(['Do Not Call','Through Recommendations','What matters most to you in choosing a course','Search','Magazine','Newspaper Article',\n",
    "               'X Education Forums','Newspaper','Digital Advertisement','Receive More Updates About Our Courses','Update me on Supply Chain Content',\n",
    "               'Get updates on DM Content','I agree to pay the amount through cheque','Last Notable Activity'], axis=1, inplace= True)"
   ]
  },
  {
   "cell_type": "code",
   "execution_count": null,
   "id": "4dc4c7ef-ac75-4067-b9c5-f3ef6966165c",
   "metadata": {},
   "outputs": [],
   "source": [
    "lead_data_cleaned.shape"
   ]
  },
  {
   "cell_type": "code",
   "execution_count": null,
   "id": "12d3ae56-c039-4160-b211-f48f008e6809",
   "metadata": {},
   "outputs": [],
   "source": [
    "lead_data_cleaned.head()"
   ]
  },
  {
   "cell_type": "markdown",
   "id": "3fa1a2fd-7599-4a36-9dc9-4fb60c967d8d",
   "metadata": {},
   "source": [
    "**EDA**"
   ]
  },
  {
   "cell_type": "code",
   "execution_count": null,
   "id": "f5c93fba-2b67-4e83-848f-62ceb10638fe",
   "metadata": {},
   "outputs": [],
   "source": [
    "#calculationg conversion rate\n",
    "converted= (sum(lead_data_cleaned['Converted'])/len(lead_data_cleaned['Converted'].index))*100\n",
    "print(converted)"
   ]
  },
  {
   "cell_type": "code",
   "execution_count": null,
   "id": "f893755d-de06-415d-a907-de7cb981e078",
   "metadata": {},
   "outputs": [],
   "source": [
    "lead_data_cleaned['Lead Source'].value_counts"
   ]
  },
  {
   "cell_type": "code",
   "execution_count": null,
   "id": "f9ff7447-9a03-4dd7-a187-699ce8154cd1",
   "metadata": {},
   "outputs": [],
   "source": [
    "#clubbing lower frequency values together under a common label 'others'\n",
    "lead_data_cleaned['Lead Source']= lead_data_cleaned['Lead Source'].replace(['blog','Pay per Click Ads','bing','Social Media','WeLeran','Click2call','Live Chat','welearnblog_Home','youtubechannel','testone','Press_Release','NC_EDM'], 'Others')"
   ]
  },
  {
   "cell_type": "code",
   "execution_count": null,
   "id": "6792fb63-8c93-4359-824c-2b485a177a50",
   "metadata": {},
   "outputs": [],
   "source": []
  },
  {
   "cell_type": "markdown",
   "id": "a50b81e9-465d-4ebc-9934-bcf65cb8ccac",
   "metadata": {},
   "source": [
    "UNIVARIATE ANALYSIS"
   ]
  },
  {
   "cell_type": "code",
   "execution_count": null,
   "id": "4b3578c7-398d-4096-a16a-71528b45a54c",
   "metadata": {},
   "outputs": [],
   "source": [
    "def mplot(df, col, title, hue= None):\n",
    "    plt.figure(figsize=(20,5))\n",
    "    temp = pd.Series(data = hue)\n",
    "    df[hue] = df[hue].astype(str)\n",
    "    \n",
    "    plt.xticks(rotation=90)\n",
    "    \n",
    "    plt.title(title)\n",
    "    ax= sns.countplot(data=df, x= col,  hue= hue)\n",
    "    \n",
    "    plt.show()\n",
    "    "
   ]
  },
  {
   "cell_type": "code",
   "execution_count": null,
   "id": "c4c4764c-eca6-4fea-983b-97d874b5edfc",
   "metadata": {},
   "outputs": [],
   "source": [
    "mplot(lead_data_cleaned, col= 'Lead Source', title= 'Lead Source', hue= 'Converted')"
   ]
  },
  {
   "cell_type": "code",
   "execution_count": null,
   "id": "943ed2f5-f27a-4535-8ad3-3053963e3e89",
   "metadata": {},
   "outputs": [],
   "source": [
    "#clubbing lower frequency values together under a common label 'others'\n",
    "lead_data_cleaned['Last Activity']=lead_data_cleaned['Last Activity'].replace(['Had a Phone Conversation','View in browser link Clicked','Visited Booth in Tradeshow',\n",
    "'Approached upfront','Resubscribed to emails','Email Marked Spam'],'Others')\n",
    "\n"
   ]
  },
  {
   "cell_type": "code",
   "execution_count": null,
   "id": "f5972156-6f69-466c-b238-13b1eafa7241",
   "metadata": {},
   "outputs": [],
   "source": [
    "mplot(lead_data_cleaned, col= 'Last Activity', title= 'Last Activity', hue= 'Converted')"
   ]
  },
  {
   "cell_type": "code",
   "execution_count": null,
   "id": "de97deea-2bc3-46ae-a190-bb6e9b41ebdd",
   "metadata": {},
   "outputs": [],
   "source": [
    "#conversion rate for last activity of 'SMS Sent' is high\n",
    "#highest last activity is 'Email Opened'"
   ]
  },
  {
   "cell_type": "code",
   "execution_count": null,
   "id": "1709063b-5170-4458-8e09-d87ff50d6005",
   "metadata": {},
   "outputs": [],
   "source": [
    "mplot(lead_data_cleaned, col= 'What is your current occupation', title= 'What is your current occupation', hue= 'Converted')"
   ]
  },
  {
   "cell_type": "code",
   "execution_count": null,
   "id": "6cb1b7ac-170f-4509-8d52-91f801255919",
   "metadata": {},
   "outputs": [],
   "source": [
    "#'unemployed'are generating more number of leads\n",
    "#coversion rate is higher for 'working professional'"
   ]
  },
  {
   "cell_type": "code",
   "execution_count": null,
   "id": "434c11ff-3e50-45a8-9545-dd19e22b00ea",
   "metadata": {},
   "outputs": [],
   "source": [
    "mplot(lead_data_cleaned, col= 'Specialization', title= 'Specialization', hue= 'Converted')"
   ]
  },
  {
   "cell_type": "code",
   "execution_count": null,
   "id": "bd5c0ba2-36ca-4153-a39d-331283044d5e",
   "metadata": {},
   "outputs": [],
   "source": [
    "#others category generating more number of leads"
   ]
  },
  {
   "cell_type": "markdown",
   "id": "1252ab8a-076a-4261-a5c3-3b00be7c3462",
   "metadata": {},
   "source": [
    "**outliers Analysis**"
   ]
  },
  {
   "cell_type": "code",
   "execution_count": null,
   "id": "81b634f5-bfbc-400d-88c9-4c335467bc73",
   "metadata": {},
   "outputs": [],
   "source": [
    "# Checking for outliers in the continuous variables\n",
    "num_lead= lead_data_cleaned[['TotalVisits','Total Time Spent on Website','Page Views Per Visit']]"
   ]
  },
  {
   "cell_type": "code",
   "execution_count": null,
   "id": "8e5c72dc-60f9-4065-8500-bcd9bef49043",
   "metadata": {},
   "outputs": [],
   "source": [
    "# Checking outliers at 25%, 50%, 75%, 90%, 95% and 99%\n",
    "num_lead.describe(percentiles=[.25, .5, .75, .90, .95, .99])"
   ]
  },
  {
   "cell_type": "markdown",
   "id": "1e2d46a6-2d75-4d19-8397-18d51caf302e",
   "metadata": {},
   "source": [
    "there are upper range outliers in 'TotalVisits' and 'Page Views Per Visit' , so need to  treat outliers."
   ]
  },
  {
   "cell_type": "code",
   "execution_count": null,
   "id": "01a78ba7-e01e-400a-a038-37c2a84716a4",
   "metadata": {},
   "outputs": [],
   "source": [
    "#Treating upper range outliers by capping  upper range to 0.99\n",
    "Q3= lead_data_cleaned.TotalVisits.quantile(0.99)\n",
    "lead_data_cleaned= lead_data_cleaned[(lead_data_cleaned.TotalVisits <= Q3)]"
   ]
  },
  {
   "cell_type": "code",
   "execution_count": null,
   "id": "ac1c9470-15d2-4c4b-a722-0b04c5f6fa6a",
   "metadata": {},
   "outputs": [],
   "source": [
    "Q3= lead_data_cleaned['Page Views Per Visit'].quantile(0.99)\n",
    "lead_data_cleaned= lead_data_cleaned[(lead_data_cleaned['Page Views Per Visit'] <= Q3)]"
   ]
  },
  {
   "cell_type": "code",
   "execution_count": null,
   "id": "7ec99181-73c5-4802-8fbe-8c97971efe38",
   "metadata": {},
   "outputs": [],
   "source": [
    " lead_data_cleaned['Converted'] = lead_data_cleaned['Converted'].astype(int)"
   ]
  },
  {
   "cell_type": "markdown",
   "id": "9317ba1b-63f6-42bf-b06d-2c593adf4d72",
   "metadata": {},
   "source": [
    "BIVARIATE ANALYSIS"
   ]
  },
  {
   "cell_type": "code",
   "execution_count": null,
   "id": "05bb01a6-541e-41f3-8b40-935bf32055c4",
   "metadata": {},
   "outputs": [],
   "source": [
    "# Let's see the correlation matrix \n",
    "plt.figure(figsize = (15,10))    \n",
    "\n",
    "sns.heatmap(lead_data_cleaned.corr(numeric_only=True),annot = True)\n",
    "plt.show()"
   ]
  },
  {
   "cell_type": "markdown",
   "id": "31b47f53-5d66-4355-afde-c66507b43092",
   "metadata": {},
   "source": [
    "'TotalVisits' and 'Page Views Per Visit' are highly correlated with correlation of 0.72"
   ]
  },
  {
   "cell_type": "markdown",
   "id": "45a30013-aa00-463f-a3f9-681afa760112",
   "metadata": {},
   "source": [
    "**Data Preparation**"
   ]
  },
  {
   "cell_type": "code",
   "execution_count": null,
   "id": "3c3d2c30-921d-4ff9-939e-3491efd85225",
   "metadata": {},
   "outputs": [],
   "source": [
    "#converting binary variables to 1/0\n",
    "vars= ['Do Not Email','A free copy of Mastering The Interview']\n",
    "def binary_map(x):\n",
    "    return x.map({'Yes': 1, 'No':0})\n",
    "lead_data_cleaned[vars]= lead_data_cleaned[vars].apply(binary_map)    "
   ]
  },
  {
   "cell_type": "code",
   "execution_count": null,
   "id": "071412ed-e849-4041-89a5-d719b4441198",
   "metadata": {},
   "outputs": [],
   "source": [
    "#checking dataframe\n",
    "lead_data_cleaned.head()"
   ]
  },
  {
   "cell_type": "markdown",
   "id": "3763331f-a77a-4d13-bdbb-b5d1f1ee663e",
   "metadata": {},
   "source": [
    "**creating dummy variables**"
   ]
  },
  {
   "cell_type": "code",
   "execution_count": null,
   "id": "28011f5e-fa90-444c-9fc7-6ea78cdb7beb",
   "metadata": {},
   "outputs": [],
   "source": [
    "#creating list of categorical columns\n",
    "temp = lead_data_cleaned.loc[:, lead_data_cleaned.dtypes == 'object']\n",
    "temp.columns"
   ]
  },
  {
   "cell_type": "code",
   "execution_count": null,
   "id": "fe5f3b09-20bf-419a-9e9a-3ed99c13b3fc",
   "metadata": {},
   "outputs": [],
   "source": [
    "#creating dummy variables for  the categorical variables and dropping the first one\n",
    "dummy= pd.get_dummies(lead_data_cleaned[['Lead Origin', 'Lead Source', 'Last Activity', 'Specialization','What is your current occupation']], drop_first= True,dtype= int)\n",
    "dummy.head()"
   ]
  },
  {
   "cell_type": "code",
   "execution_count": null,
   "id": "f0fc62b5-263f-48b4-85cd-8daad47265c9",
   "metadata": {},
   "outputs": [],
   "source": [
    "#adding dummy variable dataset to orignal\n",
    "lead_data_cleaned= pd.concat([dummy, lead_data_cleaned], axis=1)"
   ]
  },
  {
   "cell_type": "code",
   "execution_count": null,
   "id": "ad0ce5ba-2534-4c37-9d87-bbecd5631e70",
   "metadata": {},
   "outputs": [],
   "source": [
    "lead_data_cleaned.head()"
   ]
  },
  {
   "cell_type": "code",
   "execution_count": null,
   "id": "cce7d9e2-f852-44a3-8fae-99deb17243a9",
   "metadata": {},
   "outputs": [],
   "source": [
    "#dropping repeated columns\n",
    "lead_data_cleaned.drop(['Lead Origin','Lead Source','Last Activity','What is your current occupation','Specialization'],axis=1, inplace= True)"
   ]
  },
  {
   "cell_type": "code",
   "execution_count": null,
   "id": "b21abe9e-3801-47e9-bfe9-3e031783e7ff",
   "metadata": {},
   "outputs": [],
   "source": [
    "#checking shape of dataframe\n",
    "lead_data_cleaned.shape"
   ]
  },
  {
   "cell_type": "markdown",
   "id": "e2989769-918c-4b18-9ad0-74c0766895d2",
   "metadata": {},
   "source": [
    "**Test- Train Split**"
   ]
  },
  {
   "cell_type": "code",
   "execution_count": null,
   "id": "d04681bb-8411-4072-9ae6-02346c6d9b28",
   "metadata": {},
   "outputs": [],
   "source": [
    "#importing the required liabrary\n",
    "from sklearn.model_selection import train_test_split"
   ]
  },
  {
   "cell_type": "code",
   "execution_count": null,
   "id": "a1ccddd6-0589-40c5-a58f-890c0b162077",
   "metadata": {},
   "outputs": [],
   "source": [
    "#putting feature variable to x\n",
    "X= lead_data_cleaned.drop(['Converted'], axis = 1)\n",
    "\n",
    "X.head()"
   ]
  },
  {
   "cell_type": "code",
   "execution_count": null,
   "id": "36bc9cdd-247a-4ba3-95c0-6479c539c458",
   "metadata": {},
   "outputs": [],
   "source": [
    "#putting response variable to y\n",
    "y= lead_data_cleaned['Converted']\n",
    "y.head()"
   ]
  },
  {
   "cell_type": "code",
   "execution_count": null,
   "id": "8de565c0-5f8e-4759-8dc2-290a55d74611",
   "metadata": {},
   "outputs": [],
   "source": [
    "# Spliting the dataset into 70% train and 30% test, and set the random state to 100\n",
    "\n",
    "X_train, X_test, y_train, y_test = train_test_split(X, y, train_size=0.7, test_size=0.3, random_state=100)"
   ]
  },
  {
   "cell_type": "code",
   "execution_count": null,
   "id": "a443a748-564a-4038-8767-5f35a0f764ce",
   "metadata": {},
   "outputs": [],
   "source": [
    "X_train.shape"
   ]
  },
  {
   "cell_type": "code",
   "execution_count": null,
   "id": "3aefe9ce-1950-49a0-9383-3a05cea3aa0c",
   "metadata": {},
   "outputs": [],
   "source": [
    "X_test.shape"
   ]
  },
  {
   "cell_type": "markdown",
   "id": "c046d071-0060-47cb-ab7c-e635952821b0",
   "metadata": {},
   "source": [
    "**Feature Scaling**"
   ]
  },
  {
   "cell_type": "code",
   "execution_count": null,
   "id": "967d493c-111f-4ab9-8fc0-2394800eefe1",
   "metadata": {},
   "outputs": [],
   "source": [
    "#importing required liabrary\n",
    "from sklearn.preprocessing import StandardScaler"
   ]
  },
  {
   "cell_type": "code",
   "execution_count": null,
   "id": "d8ab307c-dc6f-439c-8c85-746fb4d89723",
   "metadata": {},
   "outputs": [],
   "source": [
    "#screating scaler object\n",
    "scaler = StandardScaler()\n",
    "\n",
    "X_train[['TotalVisits','Total Time Spent on Website','Page Views Per Visit']] = scaler.fit_transform(X_train[['TotalVisits','Total Time Spent on Website','Page Views Per Visit']])\n",
    "\n",
    "X_train.head()"
   ]
  },
  {
   "cell_type": "markdown",
   "id": "ae47ec12-c3f4-45e9-a4ea-081bc483adf3",
   "metadata": {},
   "source": [
    "**checking correlation**"
   ]
  },
  {
   "cell_type": "code",
   "execution_count": null,
   "id": "4079590e-bcb1-40c2-bfe7-0dce0b4f6eed",
   "metadata": {},
   "outputs": [],
   "source": [
    "# Let's see the correlation \n",
    "lead_data_cleaned.corr()"
   ]
  },
  {
   "cell_type": "markdown",
   "id": "c325e71c-d334-49c4-924e-3b7cc2a3ff86",
   "metadata": {},
   "source": [
    "**Model building**"
   ]
  },
  {
   "cell_type": "code",
   "execution_count": null,
   "id": "d9e972a0-c24a-42c3-909a-06980a46f55a",
   "metadata": {},
   "outputs": [],
   "source": [
    "# Importing 'LogisticRegression' and creating a LogisticRegression object \"regressor\"\n",
    "from sklearn.linear_model import LogisticRegression\n",
    "lr= LogisticRegression()"
   ]
  },
  {
   "cell_type": "code",
   "execution_count": null,
   "id": "50f797c7-722a-418e-b7cc-52efc952000d",
   "metadata": {
    "scrolled": true
   },
   "outputs": [],
   "source": [
    "#importing RFE for feature selection\n",
    "from sklearn.feature_selection import RFE\n",
    "rfe = RFE(lr, n_features_to_select = 15)\n",
    "rfe.fit(X_train,y_train)\n"
   ]
  },
  {
   "cell_type": "code",
   "execution_count": null,
   "id": "67c884f2-9ab6-4923-bc75-f885bc12d12b",
   "metadata": {},
   "outputs": [],
   "source": [
    "#displaying columns slected by RFE\n",
    "list(zip(X_train.columns, rfe.support_, rfe.ranking_))"
   ]
  },
  {
   "cell_type": "code",
   "execution_count": null,
   "id": "284d662b-f1d9-42db-b1e1-b21718cc3704",
   "metadata": {},
   "outputs": [],
   "source": [
    "#storing clumns selected by REF into 'col'\n",
    "col= X_train.columns[rfe.support_]\n",
    "print(col)"
   ]
  },
  {
   "cell_type": "code",
   "execution_count": null,
   "id": "d288c5bd-ade9-490f-90bd-4f08906a7b22",
   "metadata": {},
   "outputs": [],
   "source": [
    "#displyaing columns which are not selected\n",
    "X_train.columns[~rfe.support_]"
   ]
  },
  {
   "cell_type": "code",
   "execution_count": null,
   "id": "d8a65af0-918b-48ee-a732-666089041899",
   "metadata": {},
   "outputs": [],
   "source": [
    "#creating x_test dataframe with rfe selected variables\n",
    "X_train_rfe= X_train[col]"
   ]
  },
  {
   "cell_type": "markdown",
   "id": "6b90796d-0d80-48f8-b4ac-28706af47566",
   "metadata": {},
   "source": [
    "USING MANUAL FEATURE SELECTION"
   ]
  },
  {
   "cell_type": "code",
   "execution_count": null,
   "id": "3573b6ac-d982-482a-96b4-0e707105eebf",
   "metadata": {},
   "outputs": [],
   "source": [
    "#importing required liabrary\n",
    "import statsmodels.api as sm"
   ]
  },
  {
   "cell_type": "code",
   "execution_count": null,
   "id": "b179f3f3-4ef5-4f5d-8a1d-ea1b0ca4f608",
   "metadata": {},
   "outputs": [],
   "source": [
    "#add constant\n",
    "X_train_sm= sm.add_constant(X_train_rfe)\n",
    "logm1= sm.GLM(y_train,X_train_sm, family = sm.families.Binomial()).fit()"
   ]
  },
  {
   "cell_type": "code",
   "execution_count": null,
   "id": "29e7279a-d13a-4efa-8d8f-144e438498a9",
   "metadata": {},
   "outputs": [],
   "source": [
    "logm1.summary()"
   ]
  },
  {
   "cell_type": "code",
   "execution_count": null,
   "id": "2f0baf40-ca41-4a9e-af26-a3192fab42f5",
   "metadata": {},
   "outputs": [],
   "source": [
    "# Importing 'variance_inflation_factor'\n",
    "\n",
    "from statsmodels.stats.outliers_influence import variance_inflation_factor"
   ]
  },
  {
   "cell_type": "code",
   "execution_count": null,
   "id": "d7c440b3-f5a2-4878-b906-ff7701a2a88a",
   "metadata": {},
   "outputs": [],
   "source": [
    "# Making a VIF dataframe for all the variables present\n",
    "\n",
    "vif = pd.DataFrame()\n",
    "vif['Features'] = X_train_rfe.columns\n",
    "vif['VIF'] = [variance_inflation_factor(X_train_rfe.values, i) for i in range(X_train_rfe.shape[1])]\n",
    "vif['VIF'] = round(vif['VIF'], 2)\n",
    "vif = vif.sort_values(by = \"VIF\", ascending = False)\n",
    "print(vif)"
   ]
  },
  {
   "cell_type": "code",
   "execution_count": null,
   "id": "be714c91-429c-413a-8e8e-2bf9d0187d48",
   "metadata": {},
   "outputs": [],
   "source": [
    "#dropping 'What is your current occupation_Housewife'  because of insignificant variable high p-value\n",
    "X_train_new= X_train_rfe.drop(['What is your current occupation_Housewife'],axis=1)"
   ]
  },
  {
   "cell_type": "code",
   "execution_count": null,
   "id": "c71494f9-030d-4f34-ab9e-b0b80b785849",
   "metadata": {},
   "outputs": [],
   "source": [
    "#adding constant\n",
    "X_train_sm2= sm.add_constant(X_train_new)\n",
    "\n",
    "logm2= sm.GLM(y_train,X_train_sm2, family = sm.families.Binomial()).fit()"
   ]
  },
  {
   "cell_type": "code",
   "execution_count": null,
   "id": "b3134cfc-9d1f-4ab4-9e89-f32e4724615c",
   "metadata": {},
   "outputs": [],
   "source": [
    "logm2.summary()"
   ]
  },
  {
   "cell_type": "code",
   "execution_count": null,
   "id": "88c4c425-40e1-4f41-a093-80e617bfc927",
   "metadata": {},
   "outputs": [],
   "source": [
    "#calculating VIF\n",
    "vif = pd.DataFrame()\n",
    "vif['Features'] = X_train_new.columns\n",
    "vif['VIF'] = [variance_inflation_factor(X_train_new.values, i) for i in range(X_train_new.shape[1])]\n",
    "vif['VIF'] = round(vif['VIF'], 2)\n",
    "vif = vif.sort_values(by = \"VIF\", ascending = False)\n",
    "print(vif)"
   ]
  },
  {
   "cell_type": "code",
   "execution_count": null,
   "id": "9cac7786-1591-4f54-b1a5-01c17a010df4",
   "metadata": {},
   "outputs": [],
   "source": [
    "#dropping 'last Acticity_others' because of p-value=0.01\n",
    "X_train_new= X_train_new.drop(['Last Activity_Others'],axis=1)"
   ]
  },
  {
   "cell_type": "code",
   "execution_count": null,
   "id": "5f4df960-fec2-4464-bb9a-1147acf0b5d2",
   "metadata": {},
   "outputs": [],
   "source": [
    "#adding constant\n",
    "X_train_sm3= sm.add_constant(X_train_new)\n",
    "\n",
    "logm3= sm.GLM(y_train,X_train_sm3, family = sm.families.Binomial()).fit()"
   ]
  },
  {
   "cell_type": "code",
   "execution_count": null,
   "id": "bd5bb27b-b1dc-4511-8ee4-7d606ebab749",
   "metadata": {},
   "outputs": [],
   "source": [
    "logm3.summary()"
   ]
  },
  {
   "cell_type": "code",
   "execution_count": null,
   "id": "65766e5a-6cd6-420b-9b23-92f618cf2c50",
   "metadata": {},
   "outputs": [],
   "source": [
    "#calculating VIF\n",
    "vif = pd.DataFrame()\n",
    "vif['Features'] = X_train_new.columns\n",
    "vif['VIF'] = [variance_inflation_factor(X_train_new.values, i) for i in range(X_train_new.shape[1])]\n",
    "vif['VIF'] = round(vif['VIF'], 2)\n",
    "vif = vif.sort_values(by = \"VIF\", ascending = False)\n",
    "print(vif)"
   ]
  },
  {
   "cell_type": "markdown",
   "id": "658a52bb-916c-4d38-bdb9-989f8e2a238b",
   "metadata": {},
   "source": [
    "P-values of the variables  are significant and VIF values are below 3 .\n",
    "so we can proceed with making predictions using this model"
   ]
  },
  {
   "cell_type": "markdown",
   "id": "2a660cba-802e-4020-b644-88031dc23d96",
   "metadata": {},
   "source": [
    "MAKING PREDICTIONS ON 'TRAIN' DATASET "
   ]
  },
  {
   "cell_type": "code",
   "execution_count": null,
   "id": "dedbd7ab-5e8b-4e07-9d7a-d703504d248c",
   "metadata": {},
   "outputs": [],
   "source": [
    "#calculating predicted values of y_train\n",
    "y_train_pred= logm3.predict(X_train_sm3)\n",
    "\n",
    "y_train_pred[:10]  "
   ]
  },
  {
   "cell_type": "code",
   "execution_count": null,
   "id": "4f1e59a8-f8ae-480c-b388-3bcbd7ffa3ec",
   "metadata": {},
   "outputs": [],
   "source": [
    "# Reshaping it into an array\n",
    "\n",
    "y_train_pred = y_train_pred.values.reshape(-1)\n",
    "y_train_pred[:10]"
   ]
  },
  {
   "cell_type": "markdown",
   "id": "fa4ab454-f124-4893-8087-83b678599d48",
   "metadata": {},
   "source": [
    "**Creating a dataframe with the actual conversion flag and the predicted probabilities**\n"
   ]
  },
  {
   "cell_type": "code",
   "execution_count": null,
   "id": "d674d5d1-cfdf-4972-a94a-b62bee9b5e73",
   "metadata": {},
   "outputs": [],
   "source": [
    "# Creating a new dataframe containing the actual conversion flag and the probabilities predicted by the model\n",
    "\n",
    "y_train_pred_final = pd.DataFrame({'Converted':y_train.values, 'Converted_Prob':y_train_pred})\n",
    "y_train_pred_final['Prospect ID'] = y_train.index\n",
    "y_train_pred_final.head()"
   ]
  },
  {
   "cell_type": "markdown",
   "id": "b6ab009e-ea16-493e-89fb-eb68b5b86e8c",
   "metadata": {},
   "source": [
    "**Finding the Optimal Cutoff**\n"
   ]
  },
  {
   "cell_type": "code",
   "execution_count": null,
   "id": "56aa0d24-148c-4f77-a0b2-36bd9e2c59f0",
   "metadata": {},
   "outputs": [],
   "source": [
    "#lets create columns with diffrent probability cutoffs\n",
    "numbers=[float(x)/10 for x in range(10)]\n",
    "for i in numbers:\n",
    "    y_train_pred_final[i]=y_train_pred_final.Converted_Prob.map(lambda x: 1 if x>i else 0)\n",
    "y_train_pred_final.head()    "
   ]
  },
  {
   "cell_type": "code",
   "execution_count": null,
   "id": "7048fb2d-e908-48b3-90d7-505f8715654a",
   "metadata": {},
   "outputs": [],
   "source": [
    "#importing matrix liabrary\n",
    "from sklearn import metrics\n",
    "cutoff_df= pd.DataFrame(columns=['prob','accuracy','sensi','speci'])\n",
    "\n",
    "from sklearn.metrics import confusion_matrix\n",
    "\n",
    "# TP = confusion[1,1] # true positive \n",
    "# TN = confusion[0,0] # true negatives\n",
    "# FP = confusion[0,1] # false positives\n",
    "# FN = confusion[1,0] # false negatives\n",
    "\n",
    "num = [0.0,0.1,0.2,0.3,0.4,0.5,0.6,0.7,0.8,0.9]\n",
    "for i in num:\n",
    "    cm1 = metrics.confusion_matrix(y_train_pred_final.Converted, y_train_pred_final[i] )\n",
    "    total1=sum(sum(cm1))\n",
    "    accuracy = (cm1[0,0]+cm1[1,1])/total1\n",
    "    \n",
    "    speci = cm1[0,0]/(cm1[0,0]+cm1[0,1])\n",
    "    sensi = cm1[1,1]/(cm1[1,0]+cm1[1,1])\n",
    "    cutoff_df.loc[i] =[ i ,accuracy,sensi,speci]\n",
    "print(cutoff_df)\n"
   ]
  },
  {
   "cell_type": "code",
   "execution_count": null,
   "id": "06b7f87d-08f8-49a4-95a0-1c2417d7b257",
   "metadata": {},
   "outputs": [],
   "source": [
    "# Let's plot it as well\n",
    "\n",
    "cutoff_df.plot.line(x='prob', y=['accuracy','sensi','speci'])\n",
    "plt.show()"
   ]
  },
  {
   "cell_type": "markdown",
   "id": "c228b2cb-11e3-4e08-acdb-790c86cbbd3c",
   "metadata": {},
   "source": [
    "\n",
    "As you can see that around 0.35, you get the optimal values of the three metrics. So let's choose 0.42 as our cutoff now"
   ]
  },
  {
   "cell_type": "code",
   "execution_count": null,
   "id": "ba0e4cfc-0014-4de3-a2ae-4acf1c9acca9",
   "metadata": {},
   "outputs": [],
   "source": [
    "\n",
    "y_train_pred_final['final_predicted'] = y_train_pred_final.Converted_Prob.map( lambda x: 1 if x > 0.42 else 0)\n"
   ]
  },
  {
   "cell_type": "code",
   "execution_count": null,
   "id": "f2fb60d6-2041-44b7-9eda-755b836a2bc5",
   "metadata": {},
   "outputs": [],
   "source": [
    "y_train_pred_final.drop([0.0,0.1,0.2,0.3,0.4,0.5,0.6,0.7,0.8,0.9],axis=1, inplace= True)"
   ]
  },
  {
   "cell_type": "code",
   "execution_count": null,
   "id": "939d4a79-aa34-4f81-9de8-60cded3d65f9",
   "metadata": {},
   "outputs": [],
   "source": [
    "y_train_pred_final.head()"
   ]
  },
  {
   "cell_type": "code",
   "execution_count": null,
   "id": "120874cf-116a-427b-b042-57ba92119143",
   "metadata": {},
   "outputs": [],
   "source": [
    "#assiging the 'lead_score' based on 'converted_prob'\n",
    "y_train_pred_final['Lead_Score']=y_train_pred_final.Converted_Prob.map(lambda x: round(x*100))"
   ]
  },
  {
   "cell_type": "code",
   "execution_count": null,
   "id": "056cd566-920d-4630-964b-a983859abef4",
   "metadata": {},
   "outputs": [],
   "source": [
    "#selecting only imp columns\n",
    "y_train_pred_final[['Converted','Converted_Prob','Prospect ID','final_predicted','Lead_Score']].head()"
   ]
  },
  {
   "cell_type": "markdown",
   "id": "86177ee7-c0e3-4d02-a324-f593bc33e6f2",
   "metadata": {},
   "source": [
    "**model evaluation**"
   ]
  },
  {
   "cell_type": "code",
   "execution_count": null,
   "id": "4eedf704-8edf-4b8f-9984-a00f6176e99c",
   "metadata": {},
   "outputs": [],
   "source": [
    "#confusion metrix\n",
    "from sklearn import metrics\n",
    "confusion= metrics.confusion_matrix(y_train_pred_final.Converted, y_train_pred_final.final_predicted)"
   ]
  },
  {
   "cell_type": "code",
   "execution_count": null,
   "id": "86e79fde-d8e5-4cbe-901a-5517784462a0",
   "metadata": {},
   "outputs": [],
   "source": [
    "# Let's check the accuracy now\n",
    "\n",
    "metrics.accuracy_score(y_train_pred_final.Converted, y_train_pred_final.final_predicted)"
   ]
  },
  {
   "cell_type": "code",
   "execution_count": null,
   "id": "ae154ba6-61d9-4031-82ef-0e132593e571",
   "metadata": {},
   "outputs": [],
   "source": [
    "# Let's evaluate the other metrics as well\n",
    "\n",
    "TP = confusion[1,1] # true positive \n",
    "TN = confusion[0,0] # true negatives\n",
    "FP = confusion[0,1] # false positives\n",
    "FN = confusion[1,0] # false negatives"
   ]
  },
  {
   "cell_type": "code",
   "execution_count": null,
   "id": "44e467ad-587f-448a-bbcc-e4a61c521969",
   "metadata": {},
   "outputs": [],
   "source": [
    "#checking sensitivity\n",
    "TP/float(TP+FN)"
   ]
  },
  {
   "cell_type": "code",
   "execution_count": null,
   "id": "08e2f72f-3cee-46b7-a1f8-f42851eda5e2",
   "metadata": {},
   "outputs": [],
   "source": [
    "#calculate specificity\n",
    "TN/float(TN+FP)"
   ]
  },
  {
   "cell_type": "markdown",
   "id": "d450faab-5b52-4fee-9ffd-c77fccfa5362",
   "metadata": {},
   "source": [
    "**precision and recall**"
   ]
  },
  {
   "cell_type": "code",
   "execution_count": null,
   "id": "1db78202-bdd5-4f28-a02f-3d6f12c62b26",
   "metadata": {},
   "outputs": [],
   "source": [
    "#precision\n",
    "confusion[1,1]/(confusion[0,1]+confusion[1,1])"
   ]
  },
  {
   "cell_type": "code",
   "execution_count": null,
   "id": "9ec232d8-4682-4dd5-afb0-16ad82f7d2cf",
   "metadata": {},
   "outputs": [],
   "source": [
    "#recall\n",
    "confusion[1,1]/(confusion[1,0]+confusion[1,1])"
   ]
  },
  {
   "cell_type": "code",
   "execution_count": null,
   "id": "f307b3cd-ffec-4f3d-b9e0-2ed889c7039d",
   "metadata": {},
   "outputs": [],
   "source": [
    "from sklearn.metrics import precision_score, recall_score"
   ]
  },
  {
   "cell_type": "code",
   "execution_count": null,
   "id": "1c6c40bd-2770-47e8-9bc3-364e206efb4e",
   "metadata": {},
   "outputs": [],
   "source": [
    "#calculating precision value\n",
    "precision_score(y_train_pred_final.Converted, y_train_pred_final.final_predicted)"
   ]
  },
  {
   "cell_type": "code",
   "execution_count": null,
   "id": "6b4ede7a-7ac8-4ba3-aa6a-55ce8c916b04",
   "metadata": {},
   "outputs": [],
   "source": [
    "#calculating recall value\n",
    "recall_score(y_train_pred_final.Converted, y_train_pred_final.final_predicted)"
   ]
  },
  {
   "cell_type": "code",
   "execution_count": null,
   "id": "0d15194f-728f-4962-b61f-3d32352bec66",
   "metadata": {},
   "outputs": [],
   "source": [
    "#Accuracy=81%\n",
    "#sensitivity= 76%\n",
    "#specificity= 84%\n",
    "#pricision= 75%\n",
    "#recall= 76%"
   ]
  },
  {
   "cell_type": "code",
   "execution_count": null,
   "id": "e036e3a6-377a-4976-a1df-57254a4ac652",
   "metadata": {},
   "outputs": [],
   "source": [
    "#plotting the ROC curve\n",
    "def draw_roc( actual, probs ):\n",
    "    fpr, tpr, thresholds = metrics.roc_curve( actual, probs,\n",
    "                                              drop_intermediate = False )\n",
    "    auc_score = metrics.roc_auc_score( actual, probs )\n",
    "    plt.figure(figsize=(5, 5))\n",
    "    plt.plot( fpr, tpr, label='ROC curve (area = %0.2f)' % auc_score )\n",
    "    plt.plot([0, 1], [0, 1], 'k--')\n",
    "    plt.xlim([0.0, 1.0])\n",
    "    plt.ylim([0.0, 1.05])\n",
    "    plt.xlabel('False Positive Rate or [1 - True Negative Rate]')\n",
    "    plt.ylabel('True Positive Rate')\n",
    "    plt.title('Receiver operating characteristic example')\n",
    "    plt.legend(loc=\"lower right\")\n",
    "    plt.show()\n",
    "\n",
    "    return None\n"
   ]
  },
  {
   "cell_type": "code",
   "execution_count": null,
   "id": "e455ceef-cf0c-4264-bb37-f0c41921d1dd",
   "metadata": {},
   "outputs": [],
   "source": [
    "fpr, tpr, thresholds = metrics.roc_curve( y_train_pred_final.Converted, \n",
    "                                         y_train_pred_final.Converted_Prob, drop_intermediate = False )"
   ]
  },
  {
   "cell_type": "code",
   "execution_count": null,
   "id": "dafc7ad9-d52e-4457-abb6-b8570d91cf76",
   "metadata": {},
   "outputs": [],
   "source": [
    "draw_roc(y_train_pred_final.Converted, y_train_pred_final.Converted_Prob)"
   ]
  },
  {
   "cell_type": "code",
   "execution_count": null,
   "id": "30c1f8ab-9694-48fc-ae2e-d1a466b82402",
   "metadata": {},
   "outputs": [],
   "source": [
    "#we are getting a good value of 0.89 indicating a good predictive model"
   ]
  },
  {
   "cell_type": "markdown",
   "id": "1c3f9d44-05ca-4458-b09b-4890bf16cb90",
   "metadata": {},
   "source": [
    "**Precision and recall tradeoff**"
   ]
  },
  {
   "cell_type": "code",
   "execution_count": null,
   "id": "9c00410c-de5c-4352-9b91-836bb3702296",
   "metadata": {},
   "outputs": [],
   "source": [
    "from sklearn.metrics import precision_recall_curve"
   ]
  },
  {
   "cell_type": "code",
   "execution_count": null,
   "id": "f51ba552-8a29-4ad5-955f-36c6254db6b9",
   "metadata": {},
   "outputs": [],
   "source": [
    "p, r, thresholds = precision_recall_curve(y_train_pred_final.Converted, y_train_pred_final.Converted_Prob)"
   ]
  },
  {
   "cell_type": "code",
   "execution_count": null,
   "id": "e34cdf37-0e5f-41ec-8477-3116fa0cce97",
   "metadata": {},
   "outputs": [],
   "source": [
    "plt.plot(thresholds, p[:-1], \"g-\")\n",
    "plt.plot(thresholds, r[:-1], \"r-\")\n",
    "plt.show()"
   ]
  },
  {
   "cell_type": "markdown",
   "id": "efaa93b4-52d4-42cb-8037-33090ce2a433",
   "metadata": {},
   "source": [
    "from the above precision-recall curve we can see that cutoff point is 0.42"
   ]
  },
  {
   "cell_type": "code",
   "execution_count": null,
   "id": "20e40198-77b0-4b59-b740-20cc58e278b8",
   "metadata": {},
   "outputs": [],
   "source": [
    "#plotting the train dataset again with 0.42 as cutoff\n",
    "y_train_pred_final['final_predicted_2'] = y_train_pred_final.Converted_Prob.map(lambda x: 1 if x > 0.42 else 0)\n",
    "\n",
    "y_train_pred_final.head()"
   ]
  },
  {
   "cell_type": "code",
   "execution_count": null,
   "id": "2747cd11-9e41-4e37-859e-e5cfa7e33d47",
   "metadata": {},
   "outputs": [],
   "source": [
    "#confusion matrix\n",
    "confusion_2 = metrics.confusion_matrix(y_train_pred_final.Converted, y_train_pred_final.final_predicted_2 )\n",
    "confusion_2"
   ]
  },
  {
   "cell_type": "code",
   "execution_count": null,
   "id": "8b521f05-32cb-4976-8e58-8750d99884a7",
   "metadata": {},
   "outputs": [],
   "source": [
    "# Let's check the accuracy now\n",
    "\n",
    "metrics.accuracy_score(y_train_pred_final.Converted, y_train_pred_final.final_predicted_2)"
   ]
  },
  {
   "cell_type": "code",
   "execution_count": null,
   "id": "167d4aee-d703-403d-9c7c-fef5b5634f14",
   "metadata": {},
   "outputs": [],
   "source": [
    "TP = confusion_2[1,1] # true positive \n",
    "TN = confusion_2[0,0] # true negatives\n",
    "FP = confusion_2[0,1] # false positives\n",
    "FN = confusion_2[1,0] # false negatives"
   ]
  },
  {
   "cell_type": "code",
   "execution_count": null,
   "id": "22f63ac5-1966-4ff6-8915-f01d8267b7df",
   "metadata": {},
   "outputs": [],
   "source": [
    "#checking sensitivity\n",
    "TP/float(TP+FN)"
   ]
  },
  {
   "cell_type": "code",
   "execution_count": null,
   "id": "b528940f-6174-4bbb-9904-7e1bdb1de185",
   "metadata": {},
   "outputs": [],
   "source": [
    "#calculate specificity\n",
    "TN/float(TN+FP)"
   ]
  },
  {
   "cell_type": "code",
   "execution_count": null,
   "id": "4cb683b0-f074-42af-8a4e-5bfb9d4e57c4",
   "metadata": {},
   "outputs": [],
   "source": [
    "#positive predictive value\n",
    "TP/float(TP+FP)"
   ]
  },
  {
   "cell_type": "code",
   "execution_count": null,
   "id": "983ce0a5-5f68-4aae-ba24-1533c6d86a02",
   "metadata": {},
   "outputs": [],
   "source": [
    "#negative predictive value\n",
    "TN/float(TN+FN)"
   ]
  },
  {
   "cell_type": "code",
   "execution_count": null,
   "id": "23417125-2f12-44eb-be47-edc4a5661c9e",
   "metadata": {},
   "outputs": [],
   "source": [
    "#precision\n",
    "confusion_2[1,1]/(confusion_2[0,1]+confusion_2[1,1])"
   ]
  },
  {
   "cell_type": "code",
   "execution_count": null,
   "id": "40b6fd73-715a-4137-9ff6-1f0c06669001",
   "metadata": {},
   "outputs": [],
   "source": [
    "#recall\n",
    "confusion_2[1,1]/(confusion_2[1,0]+confusion_2[1,1])\n"
   ]
  },
  {
   "cell_type": "markdown",
   "id": "dd07bbaf-10a1-4b1a-91ed-0d9f00ab88a8",
   "metadata": {},
   "source": [
    "true positive number has decrease and true negative number has increase. \n",
    "thus, we cannot  use precision recall trade off method  as it reduced true positive so recall/sensitivity decreased for  this point \n",
    "we have to increase sensitivity  recall value to increase True Positives. thus we will use 0.35 as optimal cutoff point"
   ]
  },
  {
   "cell_type": "markdown",
   "id": "066f3b67-2f0b-49fe-bd12-bd816e25c50b",
   "metadata": {},
   "source": [
    "**Making Predictions on the Test Set**"
   ]
  },
  {
   "cell_type": "code",
   "execution_count": null,
   "id": "656b6b48-ade8-4da7-8f62-a3b9ee495c4f",
   "metadata": {},
   "outputs": [],
   "source": [
    "#applying 'tranform' to scale the test data set\n",
    "X_test[['TotalVisits','Total Time Spent on Website',' Page Views Per Visit']]= scaler.transform(X_test[['TotalVisits','Total Time Spent on Website',\n",
    "                                                                                                        'Page Views Per Visit']])"
   ]
  },
  {
   "cell_type": "code",
   "execution_count": null,
   "id": "59dc1fe4-df98-48a9-a332-541bc1ce1f39",
   "metadata": {},
   "outputs": [],
   "source": [
    "#predicting using values used by the final model logm3\n",
    "test_col= X_train_sm3.columns\n",
    "\n",
    "X_test= X_test[test_col[1:]]\n",
    "#adding constant to test dataset\n",
    "X_test= sm.add_constant(X_test)\n",
    "X_test.info()"
   ]
  },
  {
   "cell_type": "code",
   "execution_count": null,
   "id": "e124088b-9a7a-4028-8a0d-d4d9785f3d6f",
   "metadata": {},
   "outputs": [],
   "source": [
    "#predicting on test data set using final model\n",
    "y_test_pred = logm3.predict(X_test)"
   ]
  },
  {
   "cell_type": "code",
   "execution_count": null,
   "id": "093bc5de-548b-45c5-816e-59b906af5ab2",
   "metadata": {},
   "outputs": [],
   "source": [
    "y_test_pred[:10]"
   ]
  },
  {
   "cell_type": "code",
   "execution_count": null,
   "id": "f7c9afb7-8b30-4053-a132-2609257cd08b",
   "metadata": {},
   "outputs": [],
   "source": [
    "## Converting y_pred to a dataframe\n",
    "\n",
    "y_pred_1 = pd.DataFrame(y_test_pred)"
   ]
  },
  {
   "cell_type": "code",
   "execution_count": null,
   "id": "e93a8b06-f203-4760-9c30-1407fe862d98",
   "metadata": {},
   "outputs": [],
   "source": [
    "# Let's see the head\n",
    "\n",
    "y_pred_1.head()"
   ]
  },
  {
   "cell_type": "code",
   "execution_count": null,
   "id": "e8f8892b-90c4-4187-985d-a082f6a46b53",
   "metadata": {},
   "outputs": [],
   "source": [
    "# Converting y_test to dataframe\n",
    "\n",
    "y_test_df = pd.DataFrame(y_test)"
   ]
  },
  {
   "cell_type": "code",
   "execution_count": null,
   "id": "a3b1a75d-94a0-4a38-b4ed-f14cb10dbd29",
   "metadata": {},
   "outputs": [],
   "source": [
    "#putting prospect ID to index\n",
    "y_test_df['Prospect_ID']= y_test_df.index"
   ]
  },
  {
   "cell_type": "code",
   "execution_count": null,
   "id": "1c486baf-7fac-4f65-a74f-cf401860e810",
   "metadata": {},
   "outputs": [],
   "source": [
    "# Removing index for both dataframes to append them side by side \n",
    "\n",
    "y_pred_1.reset_index(drop=True, inplace=True)\n",
    "y_test_df.reset_index(drop=True, inplace=True)"
   ]
  },
  {
   "cell_type": "code",
   "execution_count": null,
   "id": "51296d02-ff1a-4c5d-b0ec-d98275d8023d",
   "metadata": {},
   "outputs": [],
   "source": [
    "# Appending y_test_df and y_pred_1\n",
    "\n",
    "y_pred_final = pd.concat([y_test_df, y_pred_1],axis=1)"
   ]
  },
  {
   "cell_type": "code",
   "execution_count": null,
   "id": "a0879565-e1bd-4347-b6c6-220d302b5c41",
   "metadata": {},
   "outputs": [],
   "source": [
    "# Checking 'y_pred_final'\n",
    "\n",
    "y_pred_final.head()"
   ]
  },
  {
   "cell_type": "code",
   "execution_count": null,
   "id": "8a8f19b2-3e8f-4a59-911e-b3513db87740",
   "metadata": {},
   "outputs": [],
   "source": [
    "#renaming the column'0' as 'Converted_Prob'\n",
    "y_pred_final= y_pred_final.rename(columns={0:'Converted_Prob'})"
   ]
  },
  {
   "cell_type": "code",
   "execution_count": null,
   "id": "1d91e635-960e-4ecc-a1ba-918d79781c1b",
   "metadata": {},
   "outputs": [],
   "source": [
    "# Making predictions on the test set using 0.35 as the cutoff\n",
    "\n",
    "y_pred_final['final_predicted'] = y_pred_final.Converted_Prob.map(lambda x: 1 if x > 0.35 else 0)"
   ]
  },
  {
   "cell_type": "code",
   "execution_count": null,
   "id": "47a2585e-807e-4a87-8320-cc2581b77763",
   "metadata": {},
   "outputs": [],
   "source": [
    "y_pred_final.head()"
   ]
  },
  {
   "cell_type": "code",
   "execution_count": null,
   "id": "a1b70d8b-0a21-4754-a689-cc47c126dc8d",
   "metadata": {},
   "outputs": [],
   "source": [
    "# Let's check the overall accuracy\n",
    "\n",
    "metrics.accuracy_score(y_pred_final['Converted'], y_pred_final.final_predicted)"
   ]
  },
  {
   "cell_type": "code",
   "execution_count": null,
   "id": "0c6e9662-5156-44e8-8b0d-5f12ea90e9dc",
   "metadata": {},
   "outputs": [],
   "source": [
    "confusion2 = metrics.confusion_matrix(y_pred_final['Converted'], y_pred_final.final_predicted )\n",
    "confusion2"
   ]
  },
  {
   "cell_type": "code",
   "execution_count": null,
   "id": "1c4fb50c-cbd9-41d5-9592-bfd40246dffc",
   "metadata": {},
   "outputs": [],
   "source": [
    "TP = confusion2[1,1] # true positive \n",
    "TN = confusion2[0,0] # true negatives\n",
    "FP = confusion2[0,1] # false positives\n",
    "FN = confusion2[1,0] # false negatives"
   ]
  },
  {
   "cell_type": "code",
   "execution_count": null,
   "id": "e3933c07-9e4a-41fd-8001-ad1ec6f61dc0",
   "metadata": {},
   "outputs": [],
   "source": [
    "#checking sensitivity\n",
    "TP/float(TP+FN)"
   ]
  },
  {
   "cell_type": "code",
   "execution_count": null,
   "id": "f2303dea-2df0-4b2b-aa56-0a28f6778698",
   "metadata": {},
   "outputs": [],
   "source": [
    "#calculate specificity\n",
    "TN/float(TN+FP)"
   ]
  },
  {
   "cell_type": "code",
   "execution_count": null,
   "id": "0dc9aa57-d267-4647-a36f-ad4d3a4d9207",
   "metadata": {},
   "outputs": [],
   "source": [
    "#calculating precision value\n",
    "precision_score(y_train_pred_final.Converted, y_train_pred_final.final_predicted)"
   ]
  },
  {
   "cell_type": "code",
   "execution_count": null,
   "id": "8c9d7aba-de65-4543-a0d4-5082b90a03af",
   "metadata": {},
   "outputs": [],
   "source": [
    "#calculating recall value\n",
    "recall_score(y_train_pred_final.Converted, y_train_pred_final.final_predicted)"
   ]
  },
  {
   "cell_type": "markdown",
   "id": "30cf7841-edd6-4e5f-b253-34a5fb2fe53f",
   "metadata": {},
   "source": [
    "the sensitivity value for test data is 80% while for train data is 76%. the acuuracy value is~80%. which shows that model is\n",
    "performing well for test data set also."
   ]
  }
 ],
 "metadata": {
  "kernelspec": {
   "display_name": "Python 3 (ipykernel)",
   "language": "python",
   "name": "python3"
  },
  "language_info": {
   "codemirror_mode": {
    "name": "ipython",
    "version": 3
   },
   "file_extension": ".py",
   "mimetype": "text/x-python",
   "name": "python",
   "nbconvert_exporter": "python",
   "pygments_lexer": "ipython3",
   "version": "3.9.13"
  }
 },
 "nbformat": 4,
 "nbformat_minor": 5
}
